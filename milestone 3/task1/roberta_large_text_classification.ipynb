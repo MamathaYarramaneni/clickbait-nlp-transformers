{
  "nbformat": 4,
  "nbformat_minor": 0,
  "metadata": {
    "colab": {
      "provenance": []
    },
    "kernelspec": {
      "name": "python3",
      "display_name": "Python 3"
    },
    "language_info": {
      "name": "python"
    }
  },
  "cells": [
    {
      "cell_type": "markdown",
      "source": [
        "#RoBERTa-large"
      ],
      "metadata": {
        "id": "ss9qtV_Kndp7"
      }
    },
    {
      "cell_type": "code",
      "execution_count": null,
      "metadata": {
        "id": "HEMe5GNdfbpt"
      },
      "outputs": [],
      "source": [
        "!pip install transformers datasets evaluate"
      ]
    },
    {
      "cell_type": "code",
      "source": [
        "from datasets import load_dataset\n",
        "#load the preprocessed dataset\n",
        "dataset = load_dataset('csv', data_files={'train': 'df_train.csv',\n",
        "                                          'val': 'df_valid.csv',\n",
        "                                              'test': 'df_test.csv'})"
      ],
      "metadata": {
        "colab": {
          "base_uri": "https://localhost:8080/",
          "height": 169,
          "referenced_widgets": [
            "1ea6bb229d294d4abd68125586149ea2",
            "8243c75b2749453bbe2debc56104d53c",
            "266e336be40c40eda72a120b37ff0cb0",
            "df8057144d0d42e395c1f59c9a8bcaa6",
            "81ead6ced7234544b4463ebc9e960aea",
            "7026437ed37b4d20b16da340c212f1d9",
            "76177a0392f744689cd42173185ffb05",
            "b874857270764bc996137068b3833876",
            "d8fdacd487064979a129f1c6ffcaf49b",
            "032bfb677fb748ed83ed2441fc97bc33",
            "f2fb367f323d4937aae3eaa4be44865c",
            "ec39d50bff724b2eaba4db3c2a6a7b9a",
            "297a418ecd1f4d85b3c5d1399575975c",
            "320798bad8c14a4680d6c198d2c7bfba",
            "830c3a7446e849f3a385e9b8f5a97bcb",
            "e4f7c72872b84754a878594c18c7b5f7",
            "af3a4cbe2e744af1976f975db7550421",
            "017a83d253544a2f9c879abd73ed51f9",
            "d4124ec888d44e7dbfe6bfcc8209d0a5",
            "1de66a7d33de4771879b57f48742175a",
            "7aabece3955e4000b3862a62d3a53122",
            "bebf26eeded244f0af2214592f746876",
            "5c9380aa55b64131a6b4e6e9f347eadc",
            "aac472c83e1f4f2b856578676bfd52fb",
            "f31507361c3f496e9c16b4ab598c545c",
            "871d5386e19242a3900f447c3419376e",
            "0107879c4f0c4c2caf54264231cd7761",
            "92affe1a7ee34bb48a7760659481027d",
            "3c9de12fad3748dcae4a1c674343bf48",
            "b0f44de31b0c4cc0b772fe8787e37693",
            "eac49535281f482da78943c7ef8c2488",
            "090985dded84471caa3db42fa189391e",
            "357ba87f30504d9d9156cf297598a0a9",
            "89340b99722f47cca9ffac98ef502f80",
            "40f9b6e87b384c7ca74efa678d94f90a",
            "57b1c7cd5ba145c49a82f9e981dcaf39",
            "c41b96d0cef341a5a3817ebac5271ce7",
            "f14a79a400b044e385d82d77beae3efc",
            "ced51cc9ecf94623b2a9daa90342d39e",
            "ea3ff83b4353443fa10f0ac6d9719869",
            "aee61435e62e4103bbf717e86c6b99a3",
            "2f233496129c41c8ae7db1ba02176732",
            "4444d7597c8a4bcbbfa4a9070a367186",
            "190934d4af2a451fa7b107178f159e77",
            "ca69ecdc2f8a4aa99b4784611a674439",
            "86c34483e783412291b9aaac6a152bf7",
            "0977faa5416a47c6b3b2c5a448dd379e",
            "534e52755fbc44d4bc1f82ef112bef2c",
            "94f645398f6644bca79c65929972137a",
            "c2c975d8cb884f5fa2b3b2b86c2de94c",
            "e7b047f490e54781806fb60a9d1561ef",
            "1a29ab62354541709a31caeda6153745",
            "ccc1d71cf1774e7da9f28e358a6eb4a8",
            "5901d2c2255946b6b952476db1275297",
            "218a56a59192471a8bbe103b74dee0e9",
            "bdbff8659e6146c7b9f613ac54185a5f",
            "65bff396c4e947489d76de88a0a2b4d1",
            "0c54fb127a974a5f89667c091a460226",
            "5c0a7b954bc8496bb221aec39d157185",
            "24a0cbe99e804dd1a6268a20084f1e08",
            "5ca8ad15f8644b3a8f53d6115c4e68b4",
            "f5e3c95dfcd24f239791155b9f77788d",
            "913d64f09e7a4904b5ec914d42ce2a0a",
            "01f990e7e5ac40b6bfd89b91d751545f",
            "b833f9908193476a974bc93c47ad84aa",
            "c609ebbe08fb431388c793e7b83f4c00"
          ]
        },
        "id": "4ETbAGqrhoi8",
        "outputId": "bcf838d2-8014-4b47-ad8a-f2cc197225b3"
      },
      "execution_count": null,
      "outputs": [
        {
          "output_type": "stream",
          "name": "stdout",
          "text": [
            "Downloading and preparing dataset csv/default to /root/.cache/huggingface/datasets/csv/default-2cec45cfe0e5b614/0.0.0/6954658bab30a358235fa864b05cf819af0e179325c740e4bc853bcc7ec513e1...\n"
          ]
        },
        {
          "output_type": "display_data",
          "data": {
            "text/plain": [
              "Downloading data files:   0%|          | 0/3 [00:00<?, ?it/s]"
            ],
            "application/vnd.jupyter.widget-view+json": {
              "version_major": 2,
              "version_minor": 0,
              "model_id": "1ea6bb229d294d4abd68125586149ea2"
            }
          },
          "metadata": {}
        },
        {
          "output_type": "display_data",
          "data": {
            "text/plain": [
              "Extracting data files:   0%|          | 0/3 [00:00<?, ?it/s]"
            ],
            "application/vnd.jupyter.widget-view+json": {
              "version_major": 2,
              "version_minor": 0,
              "model_id": "ec39d50bff724b2eaba4db3c2a6a7b9a"
            }
          },
          "metadata": {}
        },
        {
          "output_type": "display_data",
          "data": {
            "text/plain": [
              "Generating train split: 0 examples [00:00, ? examples/s]"
            ],
            "application/vnd.jupyter.widget-view+json": {
              "version_major": 2,
              "version_minor": 0,
              "model_id": "5c9380aa55b64131a6b4e6e9f347eadc"
            }
          },
          "metadata": {}
        },
        {
          "output_type": "display_data",
          "data": {
            "text/plain": [
              "Generating val split: 0 examples [00:00, ? examples/s]"
            ],
            "application/vnd.jupyter.widget-view+json": {
              "version_major": 2,
              "version_minor": 0,
              "model_id": "89340b99722f47cca9ffac98ef502f80"
            }
          },
          "metadata": {}
        },
        {
          "output_type": "display_data",
          "data": {
            "text/plain": [
              "Generating test split: 0 examples [00:00, ? examples/s]"
            ],
            "application/vnd.jupyter.widget-view+json": {
              "version_major": 2,
              "version_minor": 0,
              "model_id": "ca69ecdc2f8a4aa99b4784611a674439"
            }
          },
          "metadata": {}
        },
        {
          "output_type": "stream",
          "name": "stdout",
          "text": [
            "Dataset csv downloaded and prepared to /root/.cache/huggingface/datasets/csv/default-2cec45cfe0e5b614/0.0.0/6954658bab30a358235fa864b05cf819af0e179325c740e4bc853bcc7ec513e1. Subsequent calls will reuse this data.\n"
          ]
        },
        {
          "output_type": "display_data",
          "data": {
            "text/plain": [
              "  0%|          | 0/3 [00:00<?, ?it/s]"
            ],
            "application/vnd.jupyter.widget-view+json": {
              "version_major": 2,
              "version_minor": 0,
              "model_id": "bdbff8659e6146c7b9f613ac54185a5f"
            }
          },
          "metadata": {}
        }
      ]
    },
    {
      "cell_type": "code",
      "source": [
        "#preprocess function to tokenize the text\n",
        "def preprocess_function(examples):\n",
        "    return tokenizer(examples['text'], padding='max_length',\n",
        "                                max_length=128,\n",
        "                                truncation=True,\n",
        "                                return_tensors=\"pt\")"
      ],
      "metadata": {
        "id": "Q6B_bYwAnflx"
      },
      "execution_count": null,
      "outputs": []
    },
    {
      "cell_type": "code",
      "source": [
        "#dictionaries to map ids to labels and vice versa\n",
        "\n",
        "id2label = {0: \"phrase\", 1: \"passage\", 2: \"multi\"}\n",
        "label2id = {\"phrase\": 0, \"passage\": 1, \"multi\": 2}"
      ],
      "metadata": {
        "id": "pW2_Af4Jnflx"
      },
      "execution_count": null,
      "outputs": []
    },
    {
      "cell_type": "code",
      "source": [
        "#import the roberta large tokenizer\n",
        "from transformers import AutoTokenizer\n",
        "\n",
        "tokenizer = AutoTokenizer.from_pretrained(\"roberta-large\")"
      ],
      "metadata": {
        "colab": {
          "base_uri": "https://localhost:8080/",
          "height": 145,
          "referenced_widgets": [
            "410de269f5204484b4fb703a884adab0",
            "ecbb9aef8a3f4a21bbcf032f50c09d43",
            "6f8a8a7d0ae640f3a7ccadb2c323c92d",
            "fbe1343629574bd2b5d79f61076d0d6d",
            "c14531aaf9c84350a0c77cc123210d1a",
            "53494f21c1b84e0cbf52aece76f01ee7",
            "3c8e9a49da2747439f8fb36342f47fe9",
            "33916b07e38b44559bbe64f5a51491d9",
            "5dc2d78aa75f4c908cae9ae56b699177",
            "e84413a8a8a04f1b892691ee8dd0ac2b",
            "4faec96893344629b4b2007389d94bf5",
            "3a5cabcb0b4e48499a4108e5d955228a",
            "9379551f4b734984b3f48d3c8c791156",
            "f82c53545f06453aa3252e3d8831f0de",
            "b89f8c81f196409cbef3bf3c7ce8453c",
            "1168c0b76b10420381a36b2f824eb879",
            "f7e97c439c264942ab10d21ff36c82ce",
            "243b5422aed1410284deed4fa4f2325d",
            "ef92b5e4d33345deabf5346e7773458e",
            "9989bc227a914fae851b36c72a181ffe",
            "8f4c77b68c084bb089bf3b46e20cd849",
            "70469277b65e49cb8325c237427eeb77",
            "6bd33f06e0454890b413636b2f89b5b1",
            "00cbd8d8883f4546b4e3704644d45310",
            "2972adcbdde948738d3baa80eb8c9795",
            "a97e4e6e3fe046bab4e580e4dbae9f06",
            "36ed8d05f48849d4a0ae8fde7c0eb7bf",
            "9dbe9fcd14224d8c9d6bfc76bb7e057a",
            "2b540e6d6a3d45a3afe9936484f0ea13",
            "2406aad276e64d2d99518b40dc91f4f2",
            "c7cc95b1a2d94f188e0e55b4f653121c",
            "220c0506f5b44d5ba083e448aae9fde5",
            "0222710b7ccc461db9b9c54e3b55c884",
            "3fcfa48aa2084500ae7408f8e2084a60",
            "c3801517b3094c379a0b8e63b1fa5bcb",
            "1e3fb72028284c2a9b785dda555ee6a7",
            "dcccc05ef1dd45d7b4624fa17367ac35",
            "6164496d8cdb498ba74f97d61d4c471c",
            "4cd6e8d93f9e485983c3b4d7b4c104f8",
            "df398caccd5d4efb89105350ba19c2f2",
            "6b031a7aa2c143be947c3a31e4d1869a",
            "91fb27821be040e5b1caf5244432c81c",
            "67dccf49591641119ad5ac1a48e95cfe",
            "8cd1157c2e474754874fd03b08a7427f"
          ]
        },
        "outputId": "f3518f43-e15d-4450-c9b4-c9ea2ee3ef38",
        "id": "EdRwLLxkqq3e"
      },
      "execution_count": null,
      "outputs": [
        {
          "output_type": "display_data",
          "data": {
            "text/plain": [
              "Downloading (…)lve/main/config.json:   0%|          | 0.00/481 [00:00<?, ?B/s]"
            ],
            "application/vnd.jupyter.widget-view+json": {
              "version_major": 2,
              "version_minor": 0,
              "model_id": "410de269f5204484b4fb703a884adab0"
            }
          },
          "metadata": {}
        },
        {
          "output_type": "display_data",
          "data": {
            "text/plain": [
              "Downloading (…)olve/main/vocab.json:   0%|          | 0.00/899k [00:00<?, ?B/s]"
            ],
            "application/vnd.jupyter.widget-view+json": {
              "version_major": 2,
              "version_minor": 0,
              "model_id": "3a5cabcb0b4e48499a4108e5d955228a"
            }
          },
          "metadata": {}
        },
        {
          "output_type": "display_data",
          "data": {
            "text/plain": [
              "Downloading (…)olve/main/merges.txt:   0%|          | 0.00/456k [00:00<?, ?B/s]"
            ],
            "application/vnd.jupyter.widget-view+json": {
              "version_major": 2,
              "version_minor": 0,
              "model_id": "6bd33f06e0454890b413636b2f89b5b1"
            }
          },
          "metadata": {}
        },
        {
          "output_type": "display_data",
          "data": {
            "text/plain": [
              "Downloading (…)/main/tokenizer.json:   0%|          | 0.00/1.36M [00:00<?, ?B/s]"
            ],
            "application/vnd.jupyter.widget-view+json": {
              "version_major": 2,
              "version_minor": 0,
              "model_id": "3fcfa48aa2084500ae7408f8e2084a60"
            }
          },
          "metadata": {}
        }
      ]
    },
    {
      "cell_type": "code",
      "source": [
        "#import the roberta large model and pass it to classification model of huggingface\n",
        "\n",
        "from transformers import AutoModelForSequenceClassification, TrainingArguments, Trainer\n",
        "\n",
        "model = AutoModelForSequenceClassification.from_pretrained(\n",
        "    \"roberta-large\", num_labels=3, id2label=id2label, label2id=label2id\n",
        ").to(\"cuda\")"
      ],
      "metadata": {
        "colab": {
          "base_uri": "https://localhost:8080/",
          "height": 158,
          "referenced_widgets": [
            "57cf81d9ef914c89b562211c170453f4",
            "d21d227458014239a136bdd34e9dd0f4",
            "cb463c6238c8493ab036ace31e08270f",
            "e132dc5521c64144b535c05c89483d8e",
            "56b90742860940b6819ea28fe44a566f",
            "af1ce8e2a8a04d3185ddef35226a6587",
            "dc411940b5454cd4aac5b38c05c64dcb",
            "efec652b6ba74ec2ab45b15a5d561fe4",
            "9e2adac657aa4c02a551aa941f33634e",
            "0a9741fb112f4e06a27863d41cf7ff5f",
            "a62cb1415a8e4b26acbc175ae6e51c3e"
          ]
        },
        "outputId": "68ea4989-ede6-472d-ecfa-43bd9de99ec4",
        "id": "ObmDpJx3qq3f"
      },
      "execution_count": null,
      "outputs": [
        {
          "output_type": "display_data",
          "data": {
            "text/plain": [
              "Downloading pytorch_model.bin:   0%|          | 0.00/501M [00:00<?, ?B/s]"
            ],
            "application/vnd.jupyter.widget-view+json": {
              "version_major": 2,
              "version_minor": 0,
              "model_id": "57cf81d9ef914c89b562211c170453f4"
            }
          },
          "metadata": {}
        },
        {
          "output_type": "stream",
          "name": "stderr",
          "text": [
            "Some weights of the model checkpoint at roberta-base were not used when initializing RobertaForSequenceClassification: ['roberta.pooler.dense.weight', 'lm_head.dense.bias', 'roberta.pooler.dense.bias', 'lm_head.layer_norm.bias', 'lm_head.layer_norm.weight', 'lm_head.decoder.weight', 'lm_head.dense.weight', 'lm_head.bias']\n",
            "- This IS expected if you are initializing RobertaForSequenceClassification from the checkpoint of a model trained on another task or with another architecture (e.g. initializing a BertForSequenceClassification model from a BertForPreTraining model).\n",
            "- This IS NOT expected if you are initializing RobertaForSequenceClassification from the checkpoint of a model that you expect to be exactly identical (initializing a BertForSequenceClassification model from a BertForSequenceClassification model).\n",
            "Some weights of RobertaForSequenceClassification were not initialized from the model checkpoint at roberta-base and are newly initialized: ['classifier.out_proj.weight', 'classifier.out_proj.bias', 'classifier.dense.bias', 'classifier.dense.weight']\n",
            "You should probably TRAIN this model on a down-stream task to be able to use it for predictions and inference.\n"
          ]
        }
      ]
    },
    {
      "cell_type": "code",
      "source": [
        "#tokenize the data in train, validation and test sets\n",
        "\n",
        "tokenized_data = dataset.map(preprocess_function, batched=True)"
      ],
      "metadata": {
        "colab": {
          "base_uri": "https://localhost:8080/",
          "height": 17,
          "referenced_widgets": [
            "b6e9a197faf742cba9f28be079a4ec6d",
            "85231379ad104d2e93b59fca340a6bcf",
            "94e1cadc34e94e4f98a88adea9ec0527",
            "737a247f39ad437a9dae59ffdf6161aa",
            "64b7ebf91d574880b9805a938af56e21",
            "4c9dca72a90a45cc8f971f1eaede9798",
            "b84c0e332f124f03bdb8132c51c8a1f4",
            "fbe2a57c498a46f1ae7a56ff6825904d",
            "6c9e5ba433e94dbd8840e92cb9e23a8e",
            "d7280d198c8a48dbb9480219367993a4",
            "3f5ecc5c883b4028bb301e0e76bc437e",
            "37c62479de9940679b86505d067d928f",
            "639b0520cc894713a3dfae4c27154d30",
            "37872cc2d0ae41448e540cb624489856",
            "315d91a56dee46aea37b201117be7e84",
            "0e83d776e2a94c88871c2e72a781b9f3",
            "0b04c951a02e4746b30a62e0c9f8710a",
            "c999116f4b5a4b5db0a8f448c9a069d8",
            "a16f173183a04903bd9671489a2f8aaa",
            "2c5aea59c521418296f4a036e9e6bc0e",
            "3dd8f47cbfab47d88922e69c50c95368",
            "9f614dc851db4029bedce3937ccdf680",
            "23cb4d071aa54340a1179b124281b569",
            "acda206a741e423f8ccf6009f3a5a51a",
            "44ebc11cb49a4b42852479ae2fe419c8",
            "b3968275d30c4ea5a85a5e046c9207f3",
            "bb6b7aad93414793a696791ba59c05ea",
            "75837cd8a3474fd9baf3b91c0aa6d8eb",
            "9a3c8c7f7f3b453d8e570dd02ee672a1",
            "4c27f72b15464e179b64c2a60b553c8e",
            "56f9cc768e94408c89d369187490b8d3",
            "7720c07b035e4fb7ad99315efd3f7ffb",
            "ee2b06734f0540219842b3079a01e2a2"
          ]
        },
        "outputId": "8c434285-a805-4190-faf5-c87709c8691f",
        "id": "k4SsHqtDqq3f"
      },
      "execution_count": null,
      "outputs": [
        {
          "output_type": "display_data",
          "data": {
            "text/plain": [
              "Map:   0%|          | 0/2560 [00:00<?, ? examples/s]"
            ],
            "application/vnd.jupyter.widget-view+json": {
              "version_major": 2,
              "version_minor": 0,
              "model_id": "b6e9a197faf742cba9f28be079a4ec6d"
            }
          },
          "metadata": {}
        },
        {
          "output_type": "display_data",
          "data": {
            "text/plain": [
              "Map:   0%|          | 0/640 [00:00<?, ? examples/s]"
            ],
            "application/vnd.jupyter.widget-view+json": {
              "version_major": 2,
              "version_minor": 0,
              "model_id": "37c62479de9940679b86505d067d928f"
            }
          },
          "metadata": {}
        },
        {
          "output_type": "display_data",
          "data": {
            "text/plain": [
              "Map:   0%|          | 0/800 [00:00<?, ? examples/s]"
            ],
            "application/vnd.jupyter.widget-view+json": {
              "version_major": 2,
              "version_minor": 0,
              "model_id": "23cb4d071aa54340a1179b124281b569"
            }
          },
          "metadata": {}
        }
      ]
    },
    {
      "cell_type": "code",
      "source": [
        "#import the evaluation metrics - accuracy and f1\n",
        "\n",
        "import evaluate\n",
        "import numpy as np\n",
        "\n",
        "accuracy_metric = evaluate.load(\"accuracy\")\n",
        "f1_metric = evaluate.load(\"f1\")\n",
        "\n",
        "def compute_metrics(eval_pred):\n",
        "\n",
        "  logits, labels = eval_pred\n",
        "  predictions = np.argmax(logits, axis=-1)\n",
        "  f1 = f1_metric.compute(predictions=predictions, references=labels, average=\"macro\")[\"f1\"]\n",
        "  accuracy = accuracy_metric.compute(predictions=predictions, references=labels)[\"accuracy\"]\n",
        "\n",
        "  return {\"f1\": f1, \"accuracy\": accuracy}"
      ],
      "metadata": {
        "id": "HEZGxVtlnflx"
      },
      "execution_count": null,
      "outputs": []
    },
    {
      "cell_type": "code",
      "source": [
        "#import the data collator\n",
        "from transformers import DataCollatorWithPadding\n",
        "\n",
        "data_collator = DataCollatorWithPadding(tokenizer=tokenizer)"
      ],
      "metadata": {
        "id": "cSuoikzanflx"
      },
      "execution_count": null,
      "outputs": []
    },
    {
      "cell_type": "markdown",
      "source": [
        "###RoBERTa-large training\n",
        "\n"
      ],
      "metadata": {
        "id": "OACp3KZYnfly"
      }
    },
    {
      "cell_type": "code",
      "source": [
        "import torch \n",
        "torch.cuda.empty_cache()"
      ],
      "metadata": {
        "id": "P3WV0hyBoUB2"
      },
      "execution_count": null,
      "outputs": []
    },
    {
      "cell_type": "code",
      "source": [
        "#defining the training arguments for fine-tuning the roberta-large model\n",
        "\n",
        "training_args = TrainingArguments(\n",
        "    output_dir=\"output3\",\n",
        "    learning_rate=2e-5,\n",
        "    per_device_train_batch_size=16,\n",
        "    per_device_eval_batch_size=16,\n",
        "    num_train_epochs=5,\n",
        "    weight_decay=0.01,\n",
        "    evaluation_strategy=\"epoch\",\n",
        "    save_strategy=\"epoch\",\n",
        "    load_best_model_at_end=True,\n",
        "    # push_to_hub=True,\n",
        ")\n",
        "\n",
        "trainer = Trainer(\n",
        "    model=model,\n",
        "    args=training_args,\n",
        "    train_dataset=tokenized_data[\"train\"],\n",
        "    eval_dataset=tokenized_data[\"val\"],\n",
        "    tokenizer=tokenizer,\n",
        "    data_collator=data_collator,\n",
        "    compute_metrics=compute_metrics,\n",
        ")\n",
        "\n",
        "trainer.train()"
      ],
      "metadata": {
        "colab": {
          "base_uri": "https://localhost:8080/",
          "height": 359
        },
        "outputId": "85d23bd1-27c5-4d6a-eca6-9ff5d72b1da1",
        "id": "E4rBYBbr0YBW"
      },
      "execution_count": null,
      "outputs": [
        {
          "output_type": "stream",
          "name": "stderr",
          "text": [
            "/usr/local/lib/python3.10/dist-packages/transformers/optimization.py:391: FutureWarning: This implementation of AdamW is deprecated and will be removed in a future version. Use the PyTorch implementation torch.optim.AdamW instead, or set `no_deprecation_warning=True` to disable this warning\n",
            "  warnings.warn(\n",
            "You're using a RobertaTokenizerFast tokenizer. Please note that with a fast tokenizer, using the `__call__` method is faster than using a method to encode the text followed by a call to the `pad` method to get a padded encoding.\n"
          ]
        },
        {
          "output_type": "display_data",
          "data": {
            "text/plain": [
              "<IPython.core.display.HTML object>"
            ],
            "text/html": [
              "\n",
              "    <div>\n",
              "      \n",
              "      <progress value='800' max='800' style='width:300px; height:20px; vertical-align: middle;'></progress>\n",
              "      [800/800 18:41, Epoch 5/5]\n",
              "    </div>\n",
              "    <table border=\"1\" class=\"dataframe\">\n",
              "  <thead>\n",
              " <tr style=\"text-align: left;\">\n",
              "      <th>Epoch</th>\n",
              "      <th>Training Loss</th>\n",
              "      <th>Validation Loss</th>\n",
              "      <th>F1</th>\n",
              "      <th>Accuracy</th>\n",
              "    </tr>\n",
              "  </thead>\n",
              "  <tbody>\n",
              "    <tr>\n",
              "      <td>1</td>\n",
              "      <td>No log</td>\n",
              "      <td>0.809285</td>\n",
              "      <td>0.618924</td>\n",
              "      <td>0.660937</td>\n",
              "    </tr>\n",
              "    <tr>\n",
              "      <td>2</td>\n",
              "      <td>No log</td>\n",
              "      <td>0.744941</td>\n",
              "      <td>0.659161</td>\n",
              "      <td>0.710938</td>\n",
              "    </tr>\n",
              "    <tr>\n",
              "      <td>3</td>\n",
              "      <td>No log</td>\n",
              "      <td>0.798207</td>\n",
              "      <td>0.662632</td>\n",
              "      <td>0.700000</td>\n",
              "    </tr>\n",
              "    <tr>\n",
              "      <td>4</td>\n",
              "      <td>0.732700</td>\n",
              "      <td>0.926700</td>\n",
              "      <td>0.654664</td>\n",
              "      <td>0.695312</td>\n",
              "    </tr>\n",
              "    <tr>\n",
              "      <td>5</td>\n",
              "      <td>0.732700</td>\n",
              "      <td>1.023750</td>\n",
              "      <td>0.663179</td>\n",
              "      <td>0.692187</td>\n",
              "    </tr>\n",
              "  </tbody>\n",
              "</table><p>"
            ]
          },
          "metadata": {}
        },
        {
          "output_type": "execute_result",
          "data": {
            "text/plain": [
              "TrainOutput(global_step=800, training_loss=0.5566632461547851, metrics={'train_runtime': 1123.8617, 'train_samples_per_second': 11.389, 'train_steps_per_second': 0.712, 'total_flos': 2982190438809600.0, 'train_loss': 0.5566632461547851, 'epoch': 5.0})"
            ]
          },
          "metadata": {},
          "execution_count": 11
        }
      ]
    },
    {
      "cell_type": "markdown",
      "source": [
        "###RoBERTa-large inference\n"
      ],
      "metadata": {
        "id": "DYiexjDQnfly"
      }
    },
    {
      "cell_type": "code",
      "source": [
        "# Load trained model\n",
        "model_path = \"output3/checkpoint-800\"\n",
        "model = AutoModelForSequenceClassification.from_pretrained(\n",
        "    model_path, num_labels=3, id2label=id2label, label2id=label2id\n",
        ").to(\"cuda\")\n",
        "\n",
        "# Define test trainer\n",
        "test_trainer = Trainer(model) \n",
        "# Make prediction\n",
        "raw_pred, labels, metrics = test_trainer.predict(tokenized_data[\"test\"]) \n",
        "# Preprocess raw predictions\n",
        "y_pred = np.argmax(raw_pred, axis=1)"
      ],
      "metadata": {
        "colab": {
          "base_uri": "https://localhost:8080/",
          "height": 17
        },
        "outputId": "eaddaa8b-8d96-4534-df1c-7cd0902c0fb2",
        "id": "asJ52enYnfly"
      },
      "execution_count": null,
      "outputs": [
        {
          "output_type": "display_data",
          "data": {
            "text/plain": [
              "<IPython.core.display.HTML object>"
            ],
            "text/html": []
          },
          "metadata": {}
        }
      ]
    },
    {
      "cell_type": "code",
      "source": [
        "test_f1 = f1_metric.compute(predictions=y_pred, references=labels, average=\"macro\")[\"f1\"]\n",
        "test_f1"
      ],
      "metadata": {
        "colab": {
          "base_uri": "https://localhost:8080/"
        },
        "outputId": "84e4b9a9-4191-4c13-c743-8ee171e8bcb1",
        "id": "JPU_sH260YBX"
      },
      "execution_count": null,
      "outputs": [
        {
          "output_type": "execute_result",
          "data": {
            "text/plain": [
              "0.7302641134426479"
            ]
          },
          "metadata": {},
          "execution_count": 13
        }
      ]
    },
    {
      "cell_type": "code",
      "source": [
        "test_accuracy = accuracy_metric.compute(predictions=y_pred, references=labels)[\"accuracy\"]\n",
        "test_accuracy"
      ],
      "metadata": {
        "colab": {
          "base_uri": "https://localhost:8080/"
        },
        "outputId": "1d63ebb8-ef08-4c76-e387-33966bfd75e3",
        "id": "56V29Yt90YBX"
      },
      "execution_count": null,
      "outputs": [
        {
          "output_type": "execute_result",
          "data": {
            "text/plain": [
              "0.73875"
            ]
          },
          "metadata": {},
          "execution_count": 14
        }
      ]
    }
  ]
}