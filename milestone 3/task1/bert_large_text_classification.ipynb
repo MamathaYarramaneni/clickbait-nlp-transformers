{
  "nbformat": 4,
  "nbformat_minor": 0,
  "metadata": {
    "colab": {
      "provenance": []
    },
    "kernelspec": {
      "name": "python3",
      "display_name": "Python 3"
    },
    "language_info": {
      "name": "python"
    }
  },
  "cells": [
    {
      "cell_type": "markdown",
      "source": [
        "#BERT-large"
      ],
      "metadata": {
        "id": "ss9qtV_Kndp7"
      }
    },
    {
      "cell_type": "code",
      "execution_count": null,
      "metadata": {
        "id": "HEMe5GNdfbpt"
      },
      "outputs": [],
      "source": [
        "!pip install transformers datasets evaluate"
      ]
    },
    {
      "cell_type": "code",
      "source": [
        "from datasets import load_dataset\n",
        "\n",
        "#load the preprocessed dataset\n",
        "dataset = load_dataset('csv', data_files={'train': 'df_train.csv',\n",
        "                                          'val': 'df_valid.csv',\n",
        "                                              'test': 'df_test.csv'})"
      ],
      "metadata": {
        "colab": {
          "base_uri": "https://localhost:8080/",
          "height": 169,
          "referenced_widgets": [
            "1ea6bb229d294d4abd68125586149ea2",
            "8243c75b2749453bbe2debc56104d53c",
            "266e336be40c40eda72a120b37ff0cb0",
            "df8057144d0d42e395c1f59c9a8bcaa6",
            "81ead6ced7234544b4463ebc9e960aea",
            "7026437ed37b4d20b16da340c212f1d9",
            "76177a0392f744689cd42173185ffb05",
            "b874857270764bc996137068b3833876",
            "d8fdacd487064979a129f1c6ffcaf49b",
            "032bfb677fb748ed83ed2441fc97bc33",
            "f2fb367f323d4937aae3eaa4be44865c",
            "ec39d50bff724b2eaba4db3c2a6a7b9a",
            "297a418ecd1f4d85b3c5d1399575975c",
            "320798bad8c14a4680d6c198d2c7bfba",
            "830c3a7446e849f3a385e9b8f5a97bcb",
            "e4f7c72872b84754a878594c18c7b5f7",
            "af3a4cbe2e744af1976f975db7550421",
            "017a83d253544a2f9c879abd73ed51f9",
            "d4124ec888d44e7dbfe6bfcc8209d0a5",
            "1de66a7d33de4771879b57f48742175a",
            "7aabece3955e4000b3862a62d3a53122",
            "bebf26eeded244f0af2214592f746876",
            "5c9380aa55b64131a6b4e6e9f347eadc",
            "aac472c83e1f4f2b856578676bfd52fb",
            "f31507361c3f496e9c16b4ab598c545c",
            "871d5386e19242a3900f447c3419376e",
            "0107879c4f0c4c2caf54264231cd7761",
            "92affe1a7ee34bb48a7760659481027d",
            "3c9de12fad3748dcae4a1c674343bf48",
            "b0f44de31b0c4cc0b772fe8787e37693",
            "eac49535281f482da78943c7ef8c2488",
            "090985dded84471caa3db42fa189391e",
            "357ba87f30504d9d9156cf297598a0a9",
            "89340b99722f47cca9ffac98ef502f80",
            "40f9b6e87b384c7ca74efa678d94f90a",
            "57b1c7cd5ba145c49a82f9e981dcaf39",
            "c41b96d0cef341a5a3817ebac5271ce7",
            "f14a79a400b044e385d82d77beae3efc",
            "ced51cc9ecf94623b2a9daa90342d39e",
            "ea3ff83b4353443fa10f0ac6d9719869",
            "aee61435e62e4103bbf717e86c6b99a3",
            "2f233496129c41c8ae7db1ba02176732",
            "4444d7597c8a4bcbbfa4a9070a367186",
            "190934d4af2a451fa7b107178f159e77",
            "ca69ecdc2f8a4aa99b4784611a674439",
            "86c34483e783412291b9aaac6a152bf7",
            "0977faa5416a47c6b3b2c5a448dd379e",
            "534e52755fbc44d4bc1f82ef112bef2c",
            "94f645398f6644bca79c65929972137a",
            "c2c975d8cb884f5fa2b3b2b86c2de94c",
            "e7b047f490e54781806fb60a9d1561ef",
            "1a29ab62354541709a31caeda6153745",
            "ccc1d71cf1774e7da9f28e358a6eb4a8",
            "5901d2c2255946b6b952476db1275297",
            "218a56a59192471a8bbe103b74dee0e9",
            "bdbff8659e6146c7b9f613ac54185a5f",
            "65bff396c4e947489d76de88a0a2b4d1",
            "0c54fb127a974a5f89667c091a460226",
            "5c0a7b954bc8496bb221aec39d157185",
            "24a0cbe99e804dd1a6268a20084f1e08",
            "5ca8ad15f8644b3a8f53d6115c4e68b4",
            "f5e3c95dfcd24f239791155b9f77788d",
            "913d64f09e7a4904b5ec914d42ce2a0a",
            "01f990e7e5ac40b6bfd89b91d751545f",
            "b833f9908193476a974bc93c47ad84aa",
            "c609ebbe08fb431388c793e7b83f4c00"
          ]
        },
        "id": "4ETbAGqrhoi8",
        "outputId": "bcf838d2-8014-4b47-ad8a-f2cc197225b3"
      },
      "execution_count": null,
      "outputs": [
        {
          "output_type": "stream",
          "name": "stdout",
          "text": [
            "Downloading and preparing dataset csv/default to /root/.cache/huggingface/datasets/csv/default-2cec45cfe0e5b614/0.0.0/6954658bab30a358235fa864b05cf819af0e179325c740e4bc853bcc7ec513e1...\n"
          ]
        },
        {
          "output_type": "display_data",
          "data": {
            "text/plain": [
              "Downloading data files:   0%|          | 0/3 [00:00<?, ?it/s]"
            ],
            "application/vnd.jupyter.widget-view+json": {
              "version_major": 2,
              "version_minor": 0,
              "model_id": "1ea6bb229d294d4abd68125586149ea2"
            }
          },
          "metadata": {}
        },
        {
          "output_type": "display_data",
          "data": {
            "text/plain": [
              "Extracting data files:   0%|          | 0/3 [00:00<?, ?it/s]"
            ],
            "application/vnd.jupyter.widget-view+json": {
              "version_major": 2,
              "version_minor": 0,
              "model_id": "ec39d50bff724b2eaba4db3c2a6a7b9a"
            }
          },
          "metadata": {}
        },
        {
          "output_type": "display_data",
          "data": {
            "text/plain": [
              "Generating train split: 0 examples [00:00, ? examples/s]"
            ],
            "application/vnd.jupyter.widget-view+json": {
              "version_major": 2,
              "version_minor": 0,
              "model_id": "5c9380aa55b64131a6b4e6e9f347eadc"
            }
          },
          "metadata": {}
        },
        {
          "output_type": "display_data",
          "data": {
            "text/plain": [
              "Generating val split: 0 examples [00:00, ? examples/s]"
            ],
            "application/vnd.jupyter.widget-view+json": {
              "version_major": 2,
              "version_minor": 0,
              "model_id": "89340b99722f47cca9ffac98ef502f80"
            }
          },
          "metadata": {}
        },
        {
          "output_type": "display_data",
          "data": {
            "text/plain": [
              "Generating test split: 0 examples [00:00, ? examples/s]"
            ],
            "application/vnd.jupyter.widget-view+json": {
              "version_major": 2,
              "version_minor": 0,
              "model_id": "ca69ecdc2f8a4aa99b4784611a674439"
            }
          },
          "metadata": {}
        },
        {
          "output_type": "stream",
          "name": "stdout",
          "text": [
            "Dataset csv downloaded and prepared to /root/.cache/huggingface/datasets/csv/default-2cec45cfe0e5b614/0.0.0/6954658bab30a358235fa864b05cf819af0e179325c740e4bc853bcc7ec513e1. Subsequent calls will reuse this data.\n"
          ]
        },
        {
          "output_type": "display_data",
          "data": {
            "text/plain": [
              "  0%|          | 0/3 [00:00<?, ?it/s]"
            ],
            "application/vnd.jupyter.widget-view+json": {
              "version_major": 2,
              "version_minor": 0,
              "model_id": "bdbff8659e6146c7b9f613ac54185a5f"
            }
          },
          "metadata": {}
        }
      ]
    },
    {
      "cell_type": "code",
      "source": [
        "#import the bert large tokenizer\n",
        "from transformers import AutoTokenizer\n",
        "\n",
        "tokenizer = AutoTokenizer.from_pretrained(\"bert-large-cased\")"
      ],
      "metadata": {
        "colab": {
          "base_uri": "https://localhost:8080/",
          "height": 145,
          "referenced_widgets": [
            "8b419a2a93134b05b399592ebac37784",
            "9140be2f31f048a182d9b229facf8a91",
            "6e6e3dd0d89b466c9c41eece4274b2e7",
            "d70ab9edd173498aa44d2e1f952fd34a",
            "9ab6ada0470d4ab8858a0e8514d9d533",
            "711cb8797efb4d5da9126280df62323c",
            "0fe36d9730394d69b8b2ec6f697fefd3",
            "cc0e6072f4bc4993b6d5878039cec6dd",
            "922f1d9cf3724f7485a933500bb743c9",
            "fd614fd2c1a04d1aa59a96dd44dc505b",
            "e9cd2d9c5d3e4d97b5d449a2ddf69a45",
            "c641c4e0085341f0bf30f2625a357e75",
            "adb4913e188e4d9ba728f2b4778192e2",
            "7b71ea9c09e4414989cbd66bda809c53",
            "bcdb8893d8874600b3715286ce9cf7e5",
            "6e6798d3a117469aa27f21cbcfb9341a",
            "f6f0e0c48f4145128fab6bd02f7e8cfa",
            "57b16a8e83cb440bb8bd1798b22d2ee0",
            "aeeb0af056a043f1a7c774256e4e8ab7",
            "d5be931d7c0b4a7bbc434b70395a1096",
            "6fd4d95a130e40deb6af96a8643fd9fb",
            "36e25cfe17ff4b4f945fa94da2589875",
            "9d6294b86ec54970bc7db09b61363b36",
            "4d474c977b3242439be62d60e0b75716",
            "4cef44fd59874ebbbdbcfb4d763281de",
            "5c7421a035e744fc8548f548aae14557",
            "020688ccc3824264a001f5a20084f27d",
            "700d69928f154907b2c8e8925c208467",
            "fb85ac6f541d44fb9dc1b71074a8251a",
            "f92774a9fab445d3a12233b107764646",
            "8df3c428070346e8bf8ac8181d9e3b2b",
            "9470de04a7534da78ef4302d8b9bcd17",
            "45604f267f454f3ab3ab9051880fdf23",
            "732477ff0a274d5dbe884a117430180f",
            "8647521af59841cbb0b94bb2bff2f155",
            "7f53bbb1c047464ebfb958f6f52836a0",
            "22752511a5194b298ceca05fcd30b7c6",
            "26b15ee178a049528f2f1c59e8317162",
            "abe1a139ebf74f2586a1286553eea8fd",
            "aaac52f72fbd49e884df5cef1d14fed9",
            "9f82e0fc9b8046febcc23a1fb6e02656",
            "a4cee2ee9edd43929302b1eb93277bc2",
            "b32c988713524939b8cb2484188960bc",
            "b26aa4b6162a4d9fa0d6f83f750de33a"
          ]
        },
        "outputId": "a874ae02-cf99-43b3-a013-5e225ba3aa2a",
        "id": "4exNZUK9nflx"
      },
      "execution_count": null,
      "outputs": [
        {
          "output_type": "display_data",
          "data": {
            "text/plain": [
              "Downloading (…)okenizer_config.json:   0%|          | 0.00/29.0 [00:00<?, ?B/s]"
            ],
            "application/vnd.jupyter.widget-view+json": {
              "version_major": 2,
              "version_minor": 0,
              "model_id": "8b419a2a93134b05b399592ebac37784"
            }
          },
          "metadata": {}
        },
        {
          "output_type": "display_data",
          "data": {
            "text/plain": [
              "Downloading (…)lve/main/config.json:   0%|          | 0.00/762 [00:00<?, ?B/s]"
            ],
            "application/vnd.jupyter.widget-view+json": {
              "version_major": 2,
              "version_minor": 0,
              "model_id": "c641c4e0085341f0bf30f2625a357e75"
            }
          },
          "metadata": {}
        },
        {
          "output_type": "display_data",
          "data": {
            "text/plain": [
              "Downloading (…)solve/main/vocab.txt:   0%|          | 0.00/213k [00:00<?, ?B/s]"
            ],
            "application/vnd.jupyter.widget-view+json": {
              "version_major": 2,
              "version_minor": 0,
              "model_id": "9d6294b86ec54970bc7db09b61363b36"
            }
          },
          "metadata": {}
        },
        {
          "output_type": "display_data",
          "data": {
            "text/plain": [
              "Downloading (…)/main/tokenizer.json:   0%|          | 0.00/436k [00:00<?, ?B/s]"
            ],
            "application/vnd.jupyter.widget-view+json": {
              "version_major": 2,
              "version_minor": 0,
              "model_id": "732477ff0a274d5dbe884a117430180f"
            }
          },
          "metadata": {}
        }
      ]
    },
    {
      "cell_type": "code",
      "source": [
        "#preprocess function to tokenize the text\n",
        "def preprocess_function(examples):\n",
        "    return tokenizer(examples['text'], padding='max_length',\n",
        "                                max_length=128,\n",
        "                                truncation=True,\n",
        "                                return_tensors=\"pt\")"
      ],
      "metadata": {
        "id": "Q6B_bYwAnflx"
      },
      "execution_count": null,
      "outputs": []
    },
    {
      "cell_type": "code",
      "source": [
        "#dictionaries to map ids to labels and vice versa\n",
        "\n",
        "id2label = {0: \"phrase\", 1: \"passage\", 2: \"multi\"}\n",
        "label2id = {\"phrase\": 0, \"passage\": 1, \"multi\": 2}"
      ],
      "metadata": {
        "id": "pW2_Af4Jnflx"
      },
      "execution_count": null,
      "outputs": []
    },
    {
      "cell_type": "code",
      "source": [
        "#import the bert large model and pass it to classification model of huggingface\n",
        "\n",
        "from transformers import AutoModelForSequenceClassification, TrainingArguments, Trainer\n",
        "\n",
        "model = AutoModelForSequenceClassification.from_pretrained(\n",
        "    \"bert-large-cased\", num_labels=3, id2label=id2label, label2id=label2id\n",
        ").to(\"cuda\")"
      ],
      "metadata": {
        "colab": {
          "base_uri": "https://localhost:8080/",
          "height": 158,
          "referenced_widgets": [
            "30939206b7ee4a44aee167a773e2997f",
            "15480133d5e941aa976e646f8683dcb6",
            "5bd721bed74d4f22b0ccae8e2b23104a",
            "1d0928c350bd46d591ac30e5b85f13b7",
            "96b9e436434a441eb4f0d900b6d94d0c",
            "9b81f9f131ff45519c70adeb3668ad91",
            "cccddb359cc44995a4f2f568591d2c33",
            "7a7b7caf1fb6485da4866720f6b2ec11",
            "d52f4f69fb3a4be881c14f48c3c10d57",
            "18f0efd7b4ec42fd981c1c68dcb007c9",
            "a88e4eb4fd314ee0adcaf17482313dd6"
          ]
        },
        "outputId": "ba1c6cc4-4c98-4e49-9006-7bed35ac3adb",
        "id": "Cnn8TonFnflx"
      },
      "execution_count": null,
      "outputs": [
        {
          "output_type": "display_data",
          "data": {
            "text/plain": [
              "Downloading pytorch_model.bin:   0%|          | 0.00/1.34G [00:00<?, ?B/s]"
            ],
            "application/vnd.jupyter.widget-view+json": {
              "version_major": 2,
              "version_minor": 0,
              "model_id": "30939206b7ee4a44aee167a773e2997f"
            }
          },
          "metadata": {}
        },
        {
          "output_type": "stream",
          "name": "stderr",
          "text": [
            "Some weights of the model checkpoint at bert-large-cased were not used when initializing BertForSequenceClassification: ['cls.predictions.transform.LayerNorm.bias', 'cls.seq_relationship.weight', 'cls.predictions.transform.dense.weight', 'cls.seq_relationship.bias', 'cls.predictions.decoder.weight', 'cls.predictions.transform.dense.bias', 'cls.predictions.bias', 'cls.predictions.transform.LayerNorm.weight']\n",
            "- This IS expected if you are initializing BertForSequenceClassification from the checkpoint of a model trained on another task or with another architecture (e.g. initializing a BertForSequenceClassification model from a BertForPreTraining model).\n",
            "- This IS NOT expected if you are initializing BertForSequenceClassification from the checkpoint of a model that you expect to be exactly identical (initializing a BertForSequenceClassification model from a BertForSequenceClassification model).\n",
            "Some weights of BertForSequenceClassification were not initialized from the model checkpoint at bert-large-cased and are newly initialized: ['classifier.weight', 'classifier.bias']\n",
            "You should probably TRAIN this model on a down-stream task to be able to use it for predictions and inference.\n"
          ]
        }
      ]
    },
    {
      "cell_type": "code",
      "source": [
        "#tokenize the data in train, validation and test sets\n",
        "tokenized_data = dataset.map(preprocess_function, batched=True)"
      ],
      "metadata": {
        "colab": {
          "base_uri": "https://localhost:8080/",
          "height": 17,
          "referenced_widgets": [
            "5d252a1740ff4425a7c9961d52502ebf",
            "af12289c305a4a2d9434eaf7bd86d4fb",
            "0cacb1418411404aa3e830f156c90886",
            "599f7150ca184243ae9aa8727b9cc880",
            "429b986a3fba459cb5658c873da11a3f",
            "72d5faa0a2404c60810771c0072b611e",
            "c61455e04de5491e8ad1fabdc3067f33",
            "259eaa098ca242929e5f45537eb916dd",
            "92df5effb8e84a8d9a00d6782a5a7ab6",
            "2909c6a1f6a148089ca63251ba32575f",
            "95df9a9ce4ea47fe879b4c5a06e15992",
            "1a7e41d458764de0845c4e8cc74808a3",
            "2c1e6173519b47119bc6511558353189",
            "18538814b0bd468ab8e76f7bd1b04c62",
            "fe8ea31a43e642dea71ba8b311567b38",
            "bdf63270ba994a04bee5c24a56e97d65",
            "8c5b46542813434f96e783a83ef925c3",
            "89a0cd8f0d7d4b7c9caac0acbb624304",
            "6a5fa8ce6bbf42b78d417db5ec7b3051",
            "f4970871391c459c8af1f7d30714965f",
            "0f5a8a26d8e64131ad7e7bc402176947",
            "bd6b6bd999e6403da18aac90096eadd1",
            "ecdc0ae6eec149bebcf969d8e7a603da",
            "cc4a62c2a8114913b79d823650844483",
            "7f7e3bce527148da9bf95cfd59ded6f2",
            "d313355c3cf847f6a64326837d2728f5",
            "12c1a5233959480d9db7310c9b4ab745",
            "9a95ea32422045358102eed637a144b4",
            "a2d9f89c3d0545dca9335e354936a9fc",
            "f3357fb8f09945be99c8a83e26f2b300",
            "9edc8fc108f24dd288a4091022593bad",
            "aab8d9bfc3af4b1898f6c2889b4fb82a",
            "3a60161d48a94fb4ba3ee813a082b843"
          ]
        },
        "outputId": "fbaafd1d-d3ad-4fbb-e77a-4a07ade58de5",
        "id": "FfKlKfnwnflx"
      },
      "execution_count": null,
      "outputs": [
        {
          "output_type": "display_data",
          "data": {
            "text/plain": [
              "Map:   0%|          | 0/2560 [00:00<?, ? examples/s]"
            ],
            "application/vnd.jupyter.widget-view+json": {
              "version_major": 2,
              "version_minor": 0,
              "model_id": "5d252a1740ff4425a7c9961d52502ebf"
            }
          },
          "metadata": {}
        },
        {
          "output_type": "display_data",
          "data": {
            "text/plain": [
              "Map:   0%|          | 0/640 [00:00<?, ? examples/s]"
            ],
            "application/vnd.jupyter.widget-view+json": {
              "version_major": 2,
              "version_minor": 0,
              "model_id": "1a7e41d458764de0845c4e8cc74808a3"
            }
          },
          "metadata": {}
        },
        {
          "output_type": "display_data",
          "data": {
            "text/plain": [
              "Map:   0%|          | 0/800 [00:00<?, ? examples/s]"
            ],
            "application/vnd.jupyter.widget-view+json": {
              "version_major": 2,
              "version_minor": 0,
              "model_id": "ecdc0ae6eec149bebcf969d8e7a603da"
            }
          },
          "metadata": {}
        }
      ]
    },
    {
      "cell_type": "code",
      "source": [
        "#import the evaluation metrics - accuracy and f1\n",
        "\n",
        "import evaluate\n",
        "import numpy as np\n",
        "\n",
        "accuracy_metric = evaluate.load(\"accuracy\")\n",
        "f1_metric = evaluate.load(\"f1\")\n",
        "\n",
        "def compute_metrics(eval_pred):\n",
        "\n",
        "  logits, labels = eval_pred\n",
        "  predictions = np.argmax(logits, axis=-1)\n",
        "  f1 = f1_metric.compute(predictions=predictions, references=labels, average=\"macro\")[\"f1\"]\n",
        "  accuracy = accuracy_metric.compute(predictions=predictions, references=labels)[\"accuracy\"]\n",
        "\n",
        "  return {\"f1\": f1, \"accuracy\": accuracy}"
      ],
      "metadata": {
        "id": "HEZGxVtlnflx"
      },
      "execution_count": null,
      "outputs": []
    },
    {
      "cell_type": "code",
      "source": [
        "#import the data collator\n",
        "from transformers import DataCollatorWithPadding\n",
        "\n",
        "data_collator = DataCollatorWithPadding(tokenizer=tokenizer)"
      ],
      "metadata": {
        "id": "cSuoikzanflx"
      },
      "execution_count": null,
      "outputs": []
    },
    {
      "cell_type": "markdown",
      "source": [
        "###BERT-large training\n",
        "\n"
      ],
      "metadata": {
        "id": "OACp3KZYnfly"
      }
    },
    {
      "cell_type": "code",
      "source": [
        "import torch \n",
        "torch.cuda.empty_cache()"
      ],
      "metadata": {
        "id": "P3WV0hyBoUB2"
      },
      "execution_count": null,
      "outputs": []
    },
    {
      "cell_type": "code",
      "source": [
        "#defining the training arguments for fine-tuning the bert-large model\n",
        "\n",
        "training_args = TrainingArguments(\n",
        "    output_dir=\"output1\",\n",
        "    learning_rate=2e-5,\n",
        "    per_device_train_batch_size=16,\n",
        "    per_device_eval_batch_size=16,\n",
        "    num_train_epochs=5,\n",
        "    weight_decay=0.01,\n",
        "    evaluation_strategy=\"epoch\",\n",
        "    save_strategy=\"epoch\",\n",
        "    load_best_model_at_end=True,\n",
        "    # push_to_hub=True,\n",
        ")\n",
        "\n",
        "trainer = Trainer(\n",
        "    model=model,\n",
        "    args=training_args,\n",
        "    train_dataset=tokenized_data[\"train\"],\n",
        "    eval_dataset=tokenized_data[\"val\"],\n",
        "    tokenizer=tokenizer,\n",
        "    data_collator=data_collator,\n",
        "    compute_metrics=compute_metrics,\n",
        ")\n",
        "\n",
        "trainer.train()"
      ],
      "metadata": {
        "colab": {
          "base_uri": "https://localhost:8080/",
          "height": 341
        },
        "outputId": "1c92b999-227e-4416-cbe7-caa6ae5db7b5",
        "id": "zuROAgPlnfly"
      },
      "execution_count": null,
      "outputs": [
        {
          "output_type": "stream",
          "name": "stderr",
          "text": [
            "/usr/local/lib/python3.10/dist-packages/transformers/optimization.py:391: FutureWarning: This implementation of AdamW is deprecated and will be removed in a future version. Use the PyTorch implementation torch.optim.AdamW instead, or set `no_deprecation_warning=True` to disable this warning\n",
            "  warnings.warn(\n"
          ]
        },
        {
          "output_type": "display_data",
          "data": {
            "text/plain": [
              "<IPython.core.display.HTML object>"
            ],
            "text/html": [
              "\n",
              "    <div>\n",
              "      \n",
              "      <progress value='800' max='800' style='width:300px; height:20px; vertical-align: middle;'></progress>\n",
              "      [800/800 18:20, Epoch 5/5]\n",
              "    </div>\n",
              "    <table border=\"1\" class=\"dataframe\">\n",
              "  <thead>\n",
              " <tr style=\"text-align: left;\">\n",
              "      <th>Epoch</th>\n",
              "      <th>Training Loss</th>\n",
              "      <th>Validation Loss</th>\n",
              "      <th>F1</th>\n",
              "      <th>Accuracy</th>\n",
              "    </tr>\n",
              "  </thead>\n",
              "  <tbody>\n",
              "    <tr>\n",
              "      <td>1</td>\n",
              "      <td>No log</td>\n",
              "      <td>0.836830</td>\n",
              "      <td>0.578418</td>\n",
              "      <td>0.617188</td>\n",
              "    </tr>\n",
              "    <tr>\n",
              "      <td>2</td>\n",
              "      <td>No log</td>\n",
              "      <td>0.797831</td>\n",
              "      <td>0.624725</td>\n",
              "      <td>0.664062</td>\n",
              "    </tr>\n",
              "    <tr>\n",
              "      <td>3</td>\n",
              "      <td>No log</td>\n",
              "      <td>0.930667</td>\n",
              "      <td>0.634441</td>\n",
              "      <td>0.659375</td>\n",
              "    </tr>\n",
              "    <tr>\n",
              "      <td>4</td>\n",
              "      <td>0.734900</td>\n",
              "      <td>1.160752</td>\n",
              "      <td>0.624729</td>\n",
              "      <td>0.650000</td>\n",
              "    </tr>\n",
              "    <tr>\n",
              "      <td>5</td>\n",
              "      <td>0.734900</td>\n",
              "      <td>1.273363</td>\n",
              "      <td>0.635593</td>\n",
              "      <td>0.657813</td>\n",
              "    </tr>\n",
              "  </tbody>\n",
              "</table><p>"
            ]
          },
          "metadata": {}
        },
        {
          "output_type": "execute_result",
          "data": {
            "text/plain": [
              "TrainOutput(global_step=800, training_loss=0.5399257183074951, metrics={'train_runtime': 1101.3371, 'train_samples_per_second': 11.622, 'train_steps_per_second': 0.726, 'total_flos': 2982190438809600.0, 'train_loss': 0.5399257183074951, 'epoch': 5.0})"
            ]
          },
          "metadata": {},
          "execution_count": 35
        }
      ]
    },
    {
      "cell_type": "markdown",
      "source": [
        "###BERT-large inference\n"
      ],
      "metadata": {
        "id": "DYiexjDQnfly"
      }
    },
    {
      "cell_type": "code",
      "source": [
        "# Load trained model\n",
        "model_path = \"output1/checkpoint-800\"\n",
        "model = AutoModelForSequenceClassification.from_pretrained(\n",
        "    model_path, num_labels=3, id2label=id2label, label2id=label2id\n",
        ").to(\"cuda\")\n",
        "\n",
        "# Define test trainer\n",
        "test_trainer = Trainer(model) \n",
        "# Make prediction\n",
        "raw_pred, labels, metrics = test_trainer.predict(tokenized_data[\"test\"]) \n",
        "# Preprocess raw predictions\n",
        "y_pred = np.argmax(raw_pred, axis=1)"
      ],
      "metadata": {
        "colab": {
          "base_uri": "https://localhost:8080/",
          "height": 17
        },
        "outputId": "eaddaa8b-8d96-4534-df1c-7cd0902c0fb2",
        "id": "asJ52enYnfly"
      },
      "execution_count": null,
      "outputs": [
        {
          "output_type": "display_data",
          "data": {
            "text/plain": [
              "<IPython.core.display.HTML object>"
            ],
            "text/html": []
          },
          "metadata": {}
        }
      ]
    },
    {
      "cell_type": "code",
      "source": [
        "#compute f1 score\n",
        "\n",
        "test_f1 = f1_metric.compute(predictions=y_pred, references=labels, average=\"macro\")[\"f1\"]\n",
        "test_f1"
      ],
      "metadata": {
        "colab": {
          "base_uri": "https://localhost:8080/"
        },
        "outputId": "fc195d1d-c205-4acf-c6a5-6c3839cfc0fe",
        "id": "8CJwYJhrnfly"
      },
      "execution_count": null,
      "outputs": [
        {
          "output_type": "execute_result",
          "data": {
            "text/plain": [
              "0.6821537241704321"
            ]
          },
          "metadata": {},
          "execution_count": 38
        }
      ]
    },
    {
      "cell_type": "code",
      "source": [
        "#compute accuracy score\n",
        "\n",
        "test_accuracy = accuracy_metric.compute(predictions=y_pred, references=labels)[\"accuracy\"]\n",
        "test_accuracy"
      ],
      "metadata": {
        "colab": {
          "base_uri": "https://localhost:8080/"
        },
        "outputId": "357d46c0-4ed0-4219-b752-c705a7d57507",
        "id": "EB1mSwpvnfly"
      },
      "execution_count": null,
      "outputs": [
        {
          "output_type": "execute_result",
          "data": {
            "text/plain": [
              "0.68125"
            ]
          },
          "metadata": {},
          "execution_count": 39
        }
      ]
    }
  ]
}